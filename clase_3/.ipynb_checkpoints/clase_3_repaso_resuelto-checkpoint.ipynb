{
 "cells": [
  {
   "cell_type": "markdown",
   "metadata": {},
   "source": [
    "# Clase 3\n",
    "\n",
    "## Lo primero que tenemos que hacer\n",
    "\n",
    "Descargar y descomprimir en el *home* la carpeta `curso-python-cientifico-ing-unrc`\n",
    "\n",
    "### GNU/Linux\n",
    "\n",
    "**En la terminal**\n",
    "\n",
    "```sh\n",
    "cd curso-python-cientifico-ing-unrc\n",
    "source activate curso-python\n",
    "(curso-python) jupyter-notebook\n",
    "```\n",
    "\n",
    "### Windows\n",
    "\n",
    "**Inicio -> Ejecutar -> CMD**\n",
    "\n",
    "```dos\n",
    "cd curso-python-cientifico-ing-unrc\n",
    "activate curso-python\n",
    "(curso-python) jupyter-notebook\n",
    "```\n",
    "\n",
    "## Repaso\n",
    "\n",
    "Nos vamos a tomar unos minutos para repasar lo que vimos hasta ahora.\n",
    "\n",
    "* **Pensamos los ejercicios entre todos**\n",
    "* **Lo resolvemos de manera colaborativa**\n",
    "\n",
    "**1)** Crear una `función` que reciba por `parámetro` dos objetos, uno de ellos es una `lista`, si el otro objeto es un `string`, se agrega a la lista, de lo contrario, se muestra un mensaje de error."
   ]
  },
  {
   "cell_type": "code",
   "execution_count": 1,
   "metadata": {},
   "outputs": [],
   "source": [
    "una_lista = ['string', 23]"
   ]
  },
  {
   "cell_type": "code",
   "execution_count": 7,
   "metadata": {},
   "outputs": [],
   "source": [
    "def append_string_lista(lista, objeto):\n",
    "    if type(objeto) == str:\n",
    "        lista.append(objeto)\n",
    "    else:\n",
    "        print('¡ERROR! El objeto no es un string')"
   ]
  },
  {
   "cell_type": "code",
   "execution_count": 8,
   "metadata": {},
   "outputs": [],
   "source": [
    "append_string_lista(una_lista, 'string')"
   ]
  },
  {
   "cell_type": "markdown",
   "metadata": {},
   "source": [
    "**2)** Crear una `función` que reciba por `parámetro` una `tupla`, y retorne un `diccionario` con dos `claves`: pares e impares, cuyos valores sean listas de los números pares e impares de la tupla de entrada correspondientemente."
   ]
  },
  {
   "cell_type": "code",
   "execution_count": 10,
   "metadata": {},
   "outputs": [],
   "source": [
    "una_tupla = (2, 5, 7, 8, 11)"
   ]
  },
  {
   "cell_type": "code",
   "execution_count": 12,
   "metadata": {},
   "outputs": [
    {
     "data": {
      "text/plain": [
       "1"
      ]
     },
     "execution_count": 12,
     "metadata": {},
     "output_type": "execute_result"
    }
   ],
   "source": [
    "3 % 2"
   ]
  },
  {
   "cell_type": "code",
   "execution_count": 14,
   "metadata": {},
   "outputs": [],
   "source": [
    "def pares_e_impares(tupla):\n",
    "    diccionario = {'pares': [], 'impares': []}\n",
    "    for numero in tupla:\n",
    "        if numero%2 == 0:\n",
    "            diccionario['pares'].append(numero)\n",
    "        else:\n",
    "            diccionario['impares'].append(numero)\n",
    "    return diccionario"
   ]
  },
  {
   "cell_type": "code",
   "execution_count": 16,
   "metadata": {},
   "outputs": [],
   "source": [
    "diccionario = pares_e_impares(una_tupla)"
   ]
  },
  {
   "cell_type": "markdown",
   "metadata": {},
   "source": [
    "**2)** Crear una `función` que reciba por teclado `números` por teclado y los sume `hasta que` dicha suma sea igual a **666**"
   ]
  },
  {
   "cell_type": "code",
   "execution_count": 37,
   "metadata": {},
   "outputs": [],
   "source": [
    "def funcion_de_la_bestia():\n",
    "    suma = 0\n",
    "    numero = 0\n",
    "    while numero != 666:\n",
    "        numero = float( input('Ingrese un número: ') )\n",
    "        suma = suma + numero\n",
    "        print('La suma de los números ingresados es: ', suma)\n",
    "    print('¡NÚMERO DE LA BESTIA!')"
   ]
  },
  {
   "cell_type": "code",
   "execution_count": null,
   "metadata": {},
   "outputs": [],
   "source": [
    "funcion_de_la_bestia()"
   ]
  }
 ],
 "metadata": {
  "kernelspec": {
   "display_name": "Python 3",
   "language": "python",
   "name": "python3"
  },
  "language_info": {
   "codemirror_mode": {
    "name": "ipython",
    "version": 3
   },
   "file_extension": ".py",
   "mimetype": "text/x-python",
   "name": "python",
   "nbconvert_exporter": "python",
   "pygments_lexer": "ipython3",
   "version": "3.6.5"
  }
 },
 "nbformat": 4,
 "nbformat_minor": 2
}
