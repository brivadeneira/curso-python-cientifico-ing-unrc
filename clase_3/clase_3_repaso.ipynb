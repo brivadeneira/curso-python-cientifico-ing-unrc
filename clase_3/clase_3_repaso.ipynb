{
 "cells": [
  {
   "cell_type": "markdown",
   "metadata": {},
   "source": [
    "# Clase 3\n",
    "\n",
    "## Temario de hoy\n",
    "\n",
    "* Manipulación de archivos *(notebook 1.Funciones.ipynb)*.\n",
    "* ¡Graficos! con Matplotlib.\n",
    "* Vectores y matrices con Numpy.\n",
    "* ¡Super competencia de conocimientos de Python con premios!\n",
    "\n",
    "## Lo primero que tenemos que hacer\n",
    "\n",
    "Descargar y descomprimir en el *home* la carpeta `curso-python-cientifico-ing-unrc`\n",
    "\n",
    "### GNU/Linux\n",
    "\n",
    "**En la terminal**\n",
    "\n",
    "```sh\n",
    "cd curso-python-cientifico-ing-unrc\n",
    "source activate curso-python\n",
    "(curso-python) jupyter-notebook\n",
    "```\n",
    "\n",
    "### Windows\n",
    "\n",
    "**Inicio -> Ejecutar -> CMD**\n",
    "\n",
    "```dos\n",
    "cd curso-python-cientifico-ing-unrc\n",
    "activate curso-python\n",
    "(curso-python) jupyter-notebook\n",
    "```\n",
    "\n",
    "## Repaso\n",
    "\n",
    "Nos vamos a tomar unos minutos para repasar lo que vimos hasta ahora.\n",
    "\n",
    "* **Pensamos los ejercicios entre todos**\n",
    "* **Lo resolvemos de manera colaborativa**\n",
    "\n",
    "**1)** Crear una `función` que reciba por `parámetro` dos objetos, uno de ellos es una `lista`, si el otro objeto es un `string`, se agrega a la lista, de lo contrario, se muestra un mensaje de error."
   ]
  },
  {
   "cell_type": "code",
   "execution_count": null,
   "metadata": {},
   "outputs": [],
   "source": []
  },
  {
   "cell_type": "markdown",
   "metadata": {},
   "source": [
    "**2)** Crear una `función` que reciba por `parámetro` una `tupla`, y retorne un `diccionario` con dos `claves`: pares e impares, cuyos valores sean listas de los números pares e impares de la tupla de entrada correspondientemente."
   ]
  },
  {
   "cell_type": "code",
   "execution_count": null,
   "metadata": {},
   "outputs": [],
   "source": []
  }
 ],
 "metadata": {
  "kernelspec": {
   "display_name": "Python 3",
   "language": "python",
   "name": "python3"
  },
  "language_info": {
   "codemirror_mode": {
    "name": "ipython",
    "version": 3
   },
   "file_extension": ".py",
   "mimetype": "text/x-python",
   "name": "python",
   "nbconvert_exporter": "python",
   "pygments_lexer": "ipython3",
   "version": "3.6.5"
  }
 },
 "nbformat": 4,
 "nbformat_minor": 2
}
