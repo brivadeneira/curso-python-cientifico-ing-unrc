{
 "cells": [
  {
   "cell_type": "code",
   "execution_count": 2,
   "metadata": {},
   "outputs": [],
   "source": [
    "import numpy as np"
   ]
  },
  {
   "cell_type": "code",
   "execution_count": 4,
   "metadata": {},
   "outputs": [],
   "source": [
    "def construir_matrices(dimension, tamaño):\n",
    "    M_secreto = np.random.randint(0, 2, size=tamaño)\n",
    "    M_secreto = M_secreto.reshape(dimension, dimension)\n",
    "    M_muestra = np.zeros([dimension, dimension], dtype=str)\n",
    "    M_muestra[:] = '-'\n",
    "    return (M_secreto, M_muestra)"
   ]
  },
  {
   "cell_type": "code",
   "execution_count": 6,
   "metadata": {},
   "outputs": [],
   "source": [
    "def descubrir_celdas(fila, columna, perdio, puntaje):\n",
    "    if M_secreto[fila, columna] == 0:\n",
    "        M_muestra[fila, columna] = 'o'\n",
    "        puntaje += 1\n",
    "        print('¡NINGUNA MINA POR AQUÍ! Puntaje: ', puntaje)\n",
    "        print()\n",
    "        print(M_muestra)\n",
    "        return (perdio, puntaje)\n",
    "    else:\n",
    "        print('¡UNA GRAN EXPLOSIÓN OCURRIÓ EN EL TABLERO!')\n",
    "        print()\n",
    "        print('Puntaje final: ', puntaje)\n",
    "        print()\n",
    "        print(M_secreto)\n",
    "        perdio = True\n",
    "        return (perdio, puntaje)"
   ]
  },
  {
   "cell_type": "code",
   "execution_count": 28,
   "metadata": {},
   "outputs": [
    {
     "name": "stdout",
     "output_type": "stream",
     "text": [
      "Nombre: Bibo\n",
      "¡Hola Bibo!\n",
      "\n",
      "Por favor, elegí la dimensión del tablero\n",
      "1) 4x4\n",
      "2) 8x8\n",
      "3) 12x12\n",
      "Opción: 2\n",
      "\n",
      "Comienza el juego...\n",
      "\n",
      "[['-' '-' '-' '-' '-' '-' '-' '-']\n",
      " ['-' '-' '-' '-' '-' '-' '-' '-']\n",
      " ['-' '-' '-' '-' '-' '-' '-' '-']\n",
      " ['-' '-' '-' '-' '-' '-' '-' '-']\n",
      " ['-' '-' '-' '-' '-' '-' '-' '-']\n",
      " ['-' '-' '-' '-' '-' '-' '-' '-']\n",
      " ['-' '-' '-' '-' '-' '-' '-' '-']\n",
      " ['-' '-' '-' '-' '-' '-' '-' '-']]\n",
      "Ingresá la fila de la celda que querés descubrir: 0\n",
      "Ahora la columna: 0\n",
      "\n",
      "¡NINGUNA MINA POR AQUÍ! Puntaje:  1\n",
      "\n",
      "[['o' '-' '-' '-' '-' '-' '-' '-']\n",
      " ['-' '-' '-' '-' '-' '-' '-' '-']\n",
      " ['-' '-' '-' '-' '-' '-' '-' '-']\n",
      " ['-' '-' '-' '-' '-' '-' '-' '-']\n",
      " ['-' '-' '-' '-' '-' '-' '-' '-']\n",
      " ['-' '-' '-' '-' '-' '-' '-' '-']\n",
      " ['-' '-' '-' '-' '-' '-' '-' '-']\n",
      " ['-' '-' '-' '-' '-' '-' '-' '-']]\n",
      "Ingresá la fila de la celda que querés descubrir: 1\n",
      "Ahora la columna: 1\n",
      "\n",
      "¡UNA GRAN EXPLOSIÓN OCURRIÓ EN EL TABLERO!\n",
      "\n",
      "Puntaje final:  1\n",
      "\n",
      "[[0 0 0 1 1 1 1 0]\n",
      " [1 1 0 0 1 0 0 1]\n",
      " [1 1 0 0 0 1 0 0]\n",
      " [1 0 0 1 0 1 1 0]\n",
      " [0 0 0 1 0 1 1 0]\n",
      " [0 0 1 1 1 1 0 0]\n",
      " [1 0 1 1 1 1 1 0]\n",
      " [1 0 0 1 0 0 1 1]]\n"
     ]
    }
   ],
   "source": [
    "# Seteo variables iniciales\n",
    "nombre = input('Nombre: ')\n",
    "print('¡Hola ' + nombre +'!')\n",
    "opciones = {'1':4, '2':8, '3':12}\n",
    "print()\n",
    "print('Por favor, elegí la dimensión del tablero')\n",
    "print('1) 4x4')\n",
    "print('2) 8x8')\n",
    "print('3) 12x12')\n",
    "opcion = input('Opción: ')\n",
    "dimension = opciones[opcion]\n",
    "tamaño = dimension ** 2\n",
    "print()\n",
    "M_secreto, M_muestra = construir_matrices(dimension, tamaño)\n",
    "cant_ceros = len(np.where(M_secreto == 0)[0])\n",
    "print('Comienza el juego...')\n",
    "print()\n",
    "print(M_muestra)\n",
    "perdio = False\n",
    "puntaje = 0\n",
    "contador = 0\n",
    "\n",
    "while not perdio:\n",
    "    fila = int(input('Ingresá la fila de la celda que querés descubrir: '))\n",
    "    columna = int(input('Ahora la columna: '))\n",
    "    print()\n",
    "    perdio, puntaje = descubrir_celdas(fila, columna, perdio, puntaje)\n",
    "    contador += 1\n",
    "    if contador == cant_ceros:\n",
    "        print('¡GANASTE ' + nombre + ' !')\n",
    "        perdio = True"
   ]
  }
 ],
 "metadata": {
  "kernelspec": {
   "display_name": "Python 3",
   "language": "python",
   "name": "python3"
  },
  "language_info": {
   "codemirror_mode": {
    "name": "ipython",
    "version": 3
   },
   "file_extension": ".py",
   "mimetype": "text/x-python",
   "name": "python",
   "nbconvert_exporter": "python",
   "pygments_lexer": "ipython3",
   "version": "3.6.5"
  }
 },
 "nbformat": 4,
 "nbformat_minor": 2
}
