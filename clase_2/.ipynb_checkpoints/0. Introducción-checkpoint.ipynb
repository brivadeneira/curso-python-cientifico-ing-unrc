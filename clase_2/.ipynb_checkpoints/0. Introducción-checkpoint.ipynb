{
 "cells": [
  {
   "cell_type": "code",
   "execution_count": 125,
   "metadata": {},
   "outputs": [
    {
     "name": "stdout",
     "output_type": "stream",
     "text": [
      "1\n",
      "1\n"
     ]
    },
    {
     "data": {
      "text/plain": [
       "[1, 3, 4, 1, '8']"
      ]
     },
     "execution_count": 125,
     "metadata": {},
     "output_type": "execute_result"
    }
   ],
   "source": [
    "l = [1, 3, 4, 1]\n",
    "t = (1, 3, 1, 4)\n",
    "print(l.count(3))\n",
    "print(t.count(3))\n",
    "l.append('8')\n",
    "l"
   ]
  },
  {
   "cell_type": "markdown",
   "metadata": {},
   "source": [
    "# Clase 2\n",
    "\n",
    "## Lo primero que tenemos que hacer\n",
    "\n",
    "Descargar y descomprimir en el *home* la carpeta `curso-python-cientifico-ing-unrc`\n",
    "\n",
    "### GNU/Linux\n",
    "\n",
    "**En la terminal**\n",
    "\n",
    "```sh\n",
    "cd curso-python-cientifico-ing-unrc\n",
    "source activate curso-python\n",
    "(curso-python) jupyter-notebook\n",
    "```\n",
    "\n",
    "### Windows\n",
    "\n",
    "**Inicio -> Ejecutar -> CMD**\n",
    "\n",
    "```dos\n",
    "cd curso-python-cientifico-ing-unrc\n",
    "activate curso-python\n",
    "(curso-python) jupyter-notebook\n",
    "```"
   ]
  },
  {
   "cell_type": "markdown",
   "metadata": {},
   "source": [
    "#### packing/unpacking\n",
    "\n",
    "Como toda secuencia, las listas y tuplas se pueden *desempacar*"
   ]
  },
  {
   "cell_type": "code",
   "execution_count": 129,
   "metadata": {},
   "outputs": [
    {
     "name": "stdout",
     "output_type": "stream",
     "text": [
      "Juan se sacó un 10\n"
     ]
    }
   ],
   "source": [
    "nombre, nota = (\"Juan\", 10)\n",
    "print(\"{} se sacó un {}\".format(nombre, nota))     # igual a \"{0} se sacó un {1}\""
   ]
  },
  {
   "cell_type": "code",
   "execution_count": 130,
   "metadata": {},
   "outputs": [
    {
     "name": "stdout",
     "output_type": "stream",
     "text": [
      "2.0\n"
     ]
    }
   ],
   "source": [
    "a, b = 1, 2.0\n",
    "a, b = b, a\n",
    "print (a)"
   ]
  },
  {
   "cell_type": "markdown",
   "metadata": {},
   "source": [
    "Python 3 permite un desempacado extendido"
   ]
  },
  {
   "cell_type": "code",
   "execution_count": 131,
   "metadata": {},
   "outputs": [
    {
     "data": {
      "text/plain": [
       "(1, 2, [3, 4, 5])"
      ]
     },
     "execution_count": 131,
     "metadata": {},
     "output_type": "execute_result"
    }
   ],
   "source": [
    "a, b, *c = (1, 2, 3, 4, 5)     # c captura 3 elementos\n",
    "a, b, c"
   ]
  },
  {
   "cell_type": "code",
   "execution_count": 132,
   "metadata": {},
   "outputs": [
    {
     "name": "stdout",
     "output_type": "stream",
     "text": [
      "(1, [2, 3, 4], 5)\n"
     ]
    }
   ],
   "source": [
    "a, *b, c = [1, 2, 3, 4, 5]     # b captura 3 elementos del medio\n",
    "print((a, b, c))"
   ]
  },
  {
   "cell_type": "markdown",
   "metadata": {},
   "source": [
    "Como con los números, se pueden convertir las secuencias de un tipo de dato a otro. Por ejemplo:"
   ]
  },
  {
   "cell_type": "code",
   "execution_count": 136,
   "metadata": {},
   "outputs": [
    {
     "data": {
      "text/plain": [
       "['A', 1]"
      ]
     },
     "execution_count": 136,
     "metadata": {},
     "output_type": "execute_result"
    }
   ],
   "source": [
    "tup = ('A', 1)\n",
    "list(tup)"
   ]
  },
  {
   "cell_type": "markdown",
   "metadata": {},
   "source": [
    "# Range\n",
    "\n",
    "Una función *builtin* muy útil es `range`"
   ]
  },
  {
   "cell_type": "code",
   "execution_count": 137,
   "metadata": {},
   "outputs": [
    {
     "data": {
      "text/plain": [
       "[3, 5, 7, 9]"
      ]
     },
     "execution_count": 137,
     "metadata": {},
     "output_type": "execute_result"
    }
   ],
   "source": [
    "list(range(3, 10, 2))"
   ]
  },
  {
   "cell_type": "code",
   "execution_count": 141,
   "metadata": {},
   "outputs": [
    {
     "data": {
      "text/plain": [
       "[0, 1, 2, 3, 4, 5]"
      ]
     },
     "execution_count": 141,
     "metadata": {},
     "output_type": "execute_result"
    }
   ],
   "source": [
    "list(range(6))"
   ]
  },
  {
   "cell_type": "code",
   "execution_count": 142,
   "metadata": {},
   "outputs": [
    {
     "data": {
      "text/plain": [
       "[-10, -9, -8, -7, -6, -5, -4, -3, -2, -1, 0, 1, 2, 3, 4, 5, 6, 7, 8, 9]"
      ]
     },
     "execution_count": 142,
     "metadata": {},
     "output_type": "execute_result"
    }
   ],
   "source": [
    "list(range(-10, 10))"
   ]
  },
  {
   "cell_type": "code",
   "execution_count": 143,
   "metadata": {},
   "outputs": [
    {
     "data": {
      "text/plain": [
       "[0, 5, 10, 15, 20]"
      ]
     },
     "execution_count": 143,
     "metadata": {},
     "output_type": "execute_result"
    }
   ],
   "source": [
    "list(range(0, 25, 5))"
   ]
  },
  {
   "cell_type": "markdown",
   "metadata": {},
   "source": [
    "También hay una función estándar que da la sumatoria"
   ]
  },
  {
   "cell_type": "code",
   "execution_count": 144,
   "metadata": {},
   "outputs": [
    {
     "name": "stdout",
     "output_type": "stream",
     "text": [
      "Help on built-in function sum in module builtins:\n",
      "\n",
      "sum(iterable, start=0, /)\n",
      "    Return the sum of a 'start' value (default: 0) plus an iterable of numbers\n",
      "    \n",
      "    When the iterable is empty, return the start value.\n",
      "    This function is intended specifically for use with numeric values and may\n",
      "    reject non-numeric types.\n",
      "\n"
     ]
    }
   ],
   "source": [
    "help(sum)"
   ]
  },
  {
   "cell_type": "code",
   "execution_count": 145,
   "metadata": {},
   "outputs": [
    {
     "data": {
      "text/plain": [
       "21.36"
      ]
     },
     "execution_count": 145,
     "metadata": {},
     "output_type": "execute_result"
    }
   ],
   "source": [
    "sum([1, 5.36, 5, 10])"
   ]
  },
  {
   "cell_type": "markdown",
   "metadata": {},
   "source": [
    "En toda secuencia tenemos el método index, que devuelve la posición en la que se encuentra un elemento"
   ]
  },
  {
   "cell_type": "code",
   "execution_count": 146,
   "metadata": {},
   "outputs": [
    {
     "data": {
      "text/plain": [
       "1"
      ]
     },
     "execution_count": 146,
     "metadata": {},
     "output_type": "execute_result"
    }
   ],
   "source": [
    "a = [1, 'hola', []]\n",
    "a.index('hola')"
   ]
  },
  {
   "cell_type": "markdown",
   "metadata": {},
   "source": [
    "y como las listas son *mutables* también se pueden reordenar *in place* (no se devuelve un valor, se cambia internamente el objeto)"
   ]
  },
  {
   "cell_type": "code",
   "execution_count": 147,
   "metadata": {},
   "outputs": [],
   "source": [
    "a = [1, 2, 3]\n",
    "a.reverse()"
   ]
  },
  {
   "cell_type": "code",
   "execution_count": 148,
   "metadata": {},
   "outputs": [
    {
     "data": {
      "text/plain": [
       "[3, 2, 1]"
      ]
     },
     "execution_count": 148,
     "metadata": {},
     "output_type": "execute_result"
    }
   ],
   "source": [
    "a"
   ]
  },
  {
   "cell_type": "code",
   "execution_count": 149,
   "metadata": {},
   "outputs": [
    {
     "data": {
      "text/plain": [
       "[1, 2, 3]"
      ]
     },
     "execution_count": 149,
     "metadata": {},
     "output_type": "execute_result"
    }
   ],
   "source": [
    "list(reversed(a))"
   ]
  },
  {
   "cell_type": "markdown",
   "metadata": {},
   "source": [
    "La forma alternativa es usando una función, que **devuelve** un valor"
   ]
  },
  {
   "cell_type": "code",
   "execution_count": 150,
   "metadata": {},
   "outputs": [
    {
     "data": {
      "text/plain": [
       "[1, 2, 3]"
      ]
     },
     "execution_count": 150,
     "metadata": {},
     "output_type": "execute_result"
    }
   ],
   "source": [
    "b = list(reversed(a))\n",
    "b"
   ]
  },
  {
   "cell_type": "markdown",
   "metadata": {},
   "source": [
    "<div class=\"alert alert-warning\">*Nota*: se fuerza la conversión de tipo con `list()` porque `reversed`, al igual que range, no devuelve estrictamente una lista. Ya veremos más sobre esto.</div>\n",
    "\n",
    "Una función útil es `zip()`, que agrupa elementos de distintas secuencias"
   ]
  },
  {
   "cell_type": "code",
   "execution_count": 151,
   "metadata": {},
   "outputs": [
    {
     "data": {
      "text/plain": [
       "[('Juan', 'cerveza', 'arg'),\n",
       " ('Martín', 'boca juniors', 'arg'),\n",
       " ('María', 'lechuga', 'uru')]"
      ]
     },
     "execution_count": 151,
     "metadata": {},
     "output_type": "execute_result"
    }
   ],
   "source": [
    "nombres = ['Juan', 'Martín', 'María']\n",
    "pasiones = ['cerveza', 'boca juniors', 'lechuga']\n",
    "nacionalidad = ('arg', 'arg', 'uru')\n",
    "list(zip(nombres, pasiones, nacionalidad))"
   ]
  },
  {
   "cell_type": "markdown",
   "metadata": {},
   "source": [
    "#### Ejercicios\n",
    "\n",
    "1. Resuelva la siguiente operación $$\\frac{(\\sum_{k=0}^{100}k)^3}{2}$$\n",
    "\n",
    "<!-- \n",
    "sum(range(0, 101))**3/2\n",
    "-->\n",
    "\n",
    "2. Dada cualquier secuencia, devolver una tupla con sus elementos concatenados en a la misma secuencia en orden inverso. Por ejemplo para `\"ABCD\"` devuelve `('A', 'B', 'C', 'D', 'D', 'C', 'B', 'A')`\n",
    "\n",
    "<!--\n",
    "t = list(\"ABCD\")\n",
    "tuple(t + list(reversed(t)))\n",
    "-->\n",
    "\n",
    "3. Generar dos listas a partir de la funcion `range` de 10 elementos, la primera con los primeros multiplos de 2 a partir de 0 y la segunda los primeros multiplos de 3 a partir de 30 (inclusive). Devolver como una lista de tuplas\n",
    "`[(0, 30), (2, 33),... ]`\n",
    "\n",
    "<!--\n",
    "list(zip(range(0, 20, 2), range(30, 60, 3)))\n",
    "-->\n"
   ]
  },
  {
   "cell_type": "markdown",
   "metadata": {},
   "source": [
    "### Estructuras de control de flujos\n",
    "\n",
    "#### if/elif/else\n",
    "\n",
    "En todo lenguaje necesitamos controlar el flujo de una ejecución segun una condición Verdadero/Falso (booleana). *Si (condicion) es verdadero hacé (bloque A); Sino hacé (Bloque B)*. En pseudo código:\n",
    "\n",
    "    Si (condicion):\n",
    "        bloque A\n",
    "        \n",
    "![](https://i.imgur.com/kN4YsZg.png)\n",
    "\n",
    "    Si (condicion):\n",
    "        bloque A\n",
    "    sino:\n",
    "        bloque B\n",
    "\n",
    "![](https://i.imgur.com/bvSESXM.png)"
   ]
  },
  {
   "cell_type": "code",
   "execution_count": null,
   "metadata": {},
   "outputs": [],
   "source": [
    "edad = int(input('edad: '))\n",
    "if edad < 18:\n",
    "    \n",
    "    print(\"Hola pibe\")    \n",
    "else:\n",
    "    print(\"Bienvenido señor\")\n"
   ]
  },
  {
   "cell_type": "markdown",
   "metadata": {},
   "source": [
    "Los operadores lógicos en Python son muy explicitos. \n",
    "    \n",
    "    A == B \n",
    "    A > B \n",
    "    A < B\n",
    "    A >= B\n",
    "    A <= B\n",
    "    A != B\n",
    "    A in B\n",
    "\n",
    "* A todos los podemos combinar con `not`, que niega la condición\n",
    "* Podemos combinar condiciones con `AND` y `OR`, las funciones `all` y `any` y paréntesis"
   ]
  },
  {
   "cell_type": "markdown",
   "metadata": {},
   "source": [
    "Podemos tener multiples condiciones en una estructura. Se ejecutará el primer bloque cuya condición sea verdadera, o en su defecto el bloque `else`. Esto es equivalente a la sentencia `switch` o `select case` de otros lenguajes "
   ]
  },
  {
   "cell_type": "code",
   "execution_count": null,
   "metadata": {},
   "outputs": [],
   "source": [
    "if edad < 12:\n",
    "    print(\"Feliz dia del niño\")\n",
    "elif 13 < edad < 18:\n",
    "    print(\"Qué problema los granitos, no?\")\n",
    "elif edad in range(19, 90):\n",
    "    print(\"En mis épocas...\") \n",
    "else:\n",
    "    print(\"Y eso es todo amigos!\")"
   ]
  },
  {
   "cell_type": "code",
   "execution_count": null,
   "metadata": {},
   "outputs": [],
   "source": [
    "all([True, False, True])"
   ]
  },
  {
   "cell_type": "markdown",
   "metadata": {},
   "source": [
    "En un `if`, la conversión a tipo *boolean* es implícita. El tipo `None` (vacío), el `0`,  una secuencia (lista, tupla, string) (o conjunto o diccionario, que ya veremos) vacía siempre evalua a ``False``. Cualquier otro objeto evalua a ``True``."
   ]
  },
  {
   "cell_type": "code",
   "execution_count": null,
   "metadata": {},
   "outputs": [],
   "source": [
    "a = 5 - 5\n",
    "\n",
    "if a: \n",
    "    a = \"No es cero\"\n",
    "else: \n",
    "    a = \"Dio cero\"\n",
    "print(a)"
   ]
  },
  {
   "cell_type": "markdown",
   "metadata": {},
   "source": [
    "Para hacer asignaciones condicionales se puede usar la *estructura ternaria* del `if`: `A si (condicion) sino B`"
   ]
  },
  {
   "cell_type": "code",
   "execution_count": null,
   "metadata": {},
   "outputs": [],
   "source": [
    "b = 5 - 6\n",
    "a = \"No es cero\" if b else \"dio cero\"\n",
    "print(a)"
   ]
  },
  {
   "cell_type": "markdown",
   "metadata": {},
   "source": [
    "#### Ejercicio\n",
    "\n",
    "dados **valores** numéricos para a, b y c, implementar la formula  d $x = \\frac{-b \\pm \\sqrt {b^2-4ac}}{2a}$\n",
    "\n",
    "donde a, b y c son lo coeficientes de la ecuación $ax^2 + bx + c  = 0, \\quad \\mbox{para}\\;a\\neq 0$"
   ]
  },
  {
   "cell_type": "markdown",
   "metadata": {},
   "source": [
    "#### For\n",
    "\n",
    "Otro control es **iterar** sobre una secuencia (o *\"iterador\"*). Obtener cada elemento para hacer algo. En Python se logra con la sentencia `for`\n",
    "\n",
    "![](https://i.imgur.com/AXkGDYM.png)"
   ]
  },
  {
   "cell_type": "code",
   "execution_count": null,
   "metadata": {},
   "outputs": [],
   "source": [
    "sumatoria = 0\n",
    "for elemento in [1, 2, 3.6]:\n",
    "    sumatoria = sumatoria + elemento\n",
    "sumatoria"
   ]
  },
  {
   "cell_type": "code",
   "execution_count": null,
   "metadata": {},
   "outputs": [],
   "source": [
    "list(enumerate(['a', 'b', 'c']))"
   ]
  },
  {
   "cell_type": "markdown",
   "metadata": {},
   "source": [
    "Notar que no iteramos sobre el índice de cada elemento, sino sobre los elementos mismos. ¡Basta de `i`, `j` y esas variables innecesarias! . Si por alguna razon son necesarias, tenemos la función `enumerate`\n"
   ]
  },
  {
   "cell_type": "code",
   "execution_count": 4,
   "metadata": {},
   "outputs": [
    {
     "name": "stdout",
     "output_type": "stream",
     "text": [
      "El valor de la posicion 0 es 4\n",
      "El valor de la posicion 1 es 3\n",
      "El valor de la posicion 2 es 19\n"
     ]
    }
   ],
   "source": [
    "for (posicion, valor) in enumerate([4, 3, 19]):\n",
    "    print(\"El valor de la posicion %s es %d\" % (posicion, valor))"
   ]
  },
  {
   "cell_type": "code",
   "execution_count": null,
   "metadata": {},
   "outputs": [],
   "source": [
    "for i in range(10):\n",
    "    print(i)"
   ]
  },
  {
   "cell_type": "markdown",
   "metadata": {},
   "source": [
    "El bloque `for` se corre hasta el final del *iterador* o hasta encontrar un sentencia `break`"
   ]
  },
  {
   "cell_type": "code",
   "execution_count": null,
   "metadata": {},
   "outputs": [],
   "source": [
    "sumatoria = 0\n",
    "for elemento in range(1000):\n",
    "    if elemento > 100:\n",
    "        break\n",
    "    sumatoria = sumatoria + elemento\n",
    "sumatoria, elemento"
   ]
  },
  {
   "cell_type": "markdown",
   "metadata": {},
   "source": [
    "También podemos usar `continue` para omitir la ejecución de \"una iteración\""
   ]
  },
  {
   "cell_type": "code",
   "execution_count": null,
   "metadata": {},
   "outputs": [],
   "source": [
    "sumatoria = 0\n",
    "for elemento in range(20):\n",
    "    if elemento % 2:\n",
    "        continue\n",
    "    print(elemento)\n",
    "    sumatoria = sumatoria + elemento\n",
    "sumatoria"
   ]
  },
  {
   "cell_type": "markdown",
   "metadata": {},
   "source": [
    "Muchas veces queremos iterar una lista para obtener otra, con sus elementos modificados. Por ejemplo, obtener una lista con los cuadrados de los primeros 10 enteros."
   ]
  },
  {
   "cell_type": "code",
   "execution_count": null,
   "metadata": {},
   "outputs": [],
   "source": [
    "cuadrados = []\n",
    "for i in range(-3,15,1):\n",
    "    cuadrados.append(i**2)\n",
    "print (cuadrados)"
   ]
  },
  {
   "cell_type": "markdown",
   "metadata": {},
   "source": [
    "Una forma compacta y elegante (¡pythónica!) de escribir esta estructura muy frecuente son las **listas por comprehensión**:"
   ]
  },
  {
   "cell_type": "code",
   "execution_count": null,
   "metadata": {},
   "outputs": [],
   "source": [
    "[n*2 for n in range(5)]"
   ]
  },
  {
   "cell_type": "markdown",
   "metadata": {},
   "source": [
    "Se lee: \"Obtener el cuadrado de cada elemento i de la secuencia (rango 0 a 9)\". \n",
    "\n",
    "Pero además podemos filtrar: usar sólo los elementos que cumplen una condición. "
   ]
  },
  {
   "cell_type": "code",
   "execution_count": null,
   "metadata": {},
   "outputs": [],
   "source": [
    "[i**2 for i in range(-2, 6) if i % 2 == 1]"
   ]
  },
  {
   "cell_type": "markdown",
   "metadata": {},
   "source": [
    "\n",
    "#### Ejercicios\n",
    "\n",
    "- 1) Obtener la sumatoria de los cubos de los numeros impares menores a 100. $$\\sum_{a=0}^{100}a^3 \\mid a\\ impar $$\n",
    "\n",
    "<!--\n",
    "sum(a**3 for a in range(101) if a % 2 != 0)\n",
    "-->\n",
    "\n",
    "- 2) Obtener la productoria de los primeros 12 digitos decimales de PI\n",
    "\n",
    "<!--\n",
    "import math\n",
    "sum([int(digito) for digito in str(math.pi)[2:14]])\n",
    "-->\n",
    "\n",
    "- 3) Encuentre el mínimo de $$f(x) = (x-4)^2-3 \\mid x \\in  [-100, 100)$$ \n",
    "- 4) Encuentre el promedio de los números reales de la cadena `\"3,4   1,2  -6   0  9,7\"`\n",
    "\n",
    "<!-- \n",
    "data = \"3,4   1,2  -6   0  9,7\".split()\n",
    "sum(float(s.replace(',', '.')) for s in data) / len(data)\n",
    "-->"
   ]
  },
  {
   "cell_type": "markdown",
   "metadata": {},
   "source": [
    "#### While\n",
    "\n",
    "Otro tipo de sentencia de control es *while*: iterar mientras se cumpla una condición\n",
    "\n",
    "![](https://i.imgur.com/ENie3lO.png)"
   ]
  },
  {
   "cell_type": "code",
   "execution_count": null,
   "metadata": {},
   "outputs": [],
   "source": [
    "a = int(input('ingrese un numero'))\n",
    "while a < 10:\n",
    "    print (a)\n",
    "    a += 1"
   ]
  },
  {
   "cell_type": "markdown",
   "metadata": {},
   "source": [
    "Como en la iteración con `for` se puede utilizar la sentencia `break` para \"romper\" el bucle. Entonces puede modificarse para que la condición esté en una posicion arbitraria"
   ]
  },
  {
   "cell_type": "code",
   "execution_count": 23,
   "metadata": {},
   "outputs": [
    {
     "name": "stdout",
     "output_type": "stream",
     "text": [
      "2 elefantes se balanceaban sobre la tela de una araña\n",
      "Desea invitar a otro elefante?si\n",
      "3 elefantes se balanceaban sobre la tela de una araña\n",
      "Desea invitar a otro elefante?si\n",
      "4 elefantes se balanceaban sobre la tela de una araña\n",
      "Desea invitar a otro elefante?no\n"
     ]
    }
   ],
   "source": [
    "n = 1\n",
    "while True:\n",
    "    n = n + 1\n",
    "    print('{} elefantes se balanceaban sobre la tela de una araña'.format(n))\n",
    "    print(str())\n",
    "    continuar = input('Desea invitar a otro elefante?')\n",
    "    if continuar == 'no':\n",
    "        break"
   ]
  },
  {
   "cell_type": "markdown",
   "metadata": {},
   "source": [
    "# Ejercicio\n",
    "\n",
    "Calcular la sucesión de Fibonacci hasta que ésta iguale o supere el número `N`, dado `N` por consola."
   ]
  },
  {
   "cell_type": "markdown",
   "metadata": {},
   "source": [
    "### Diccionarios\n",
    "\n",
    "La diccionarios son otro tipo de estructuras de alto nivel que ya vienen incorporados. A diferencia de las secuencias, los valores **no están en una posición** sino bajo **una clave**: son asociaciones `clave:valor`\n"
   ]
  },
  {
   "cell_type": "code",
   "execution_count": null,
   "metadata": {},
   "outputs": [],
   "source": [
    "camisetas = {'Orión': 1, 'Carlitos': 10, 'Gago': 5, 'Gaitán': 'Jugador nº 12'} "
   ]
  },
  {
   "cell_type": "markdown",
   "metadata": {},
   "source": [
    "Accedemos al valor a traves de un clave"
   ]
  },
  {
   "cell_type": "code",
   "execution_count": null,
   "metadata": {},
   "outputs": [],
   "source": [
    "camisetas['Perez'] = 8"
   ]
  },
  {
   "cell_type": "code",
   "execution_count": null,
   "metadata": {},
   "outputs": [],
   "source": [
    "camisetas"
   ]
  },
  {
   "cell_type": "markdown",
   "metadata": {},
   "source": [
    "Las claves pueden ser cualquier objeto inmutable (cadenas, numeros, tuplas) y los valores pueden ser cualquier tipo de objeto. Las claves no se pueden repetir pero los valores sí.\n",
    "\n",
    "**Importante**: los diccionarios **no tienen un orden definido**. Si por alguna razón necesitamos un orden, debemos obtener las claves, ordenarlas e iterar por esa secuencia de claves ordenadas.\n"
   ]
  },
  {
   "cell_type": "code",
   "execution_count": null,
   "metadata": {},
   "outputs": [],
   "source": [
    "sorted(camisetas.keys(), reverse=True)"
   ]
  },
  {
   "cell_type": "markdown",
   "metadata": {},
   "source": [
    "Los diccionarios **son mutables**. Es decir, podemos cambiar el valor de una clave, agregar o quitar.  "
   ]
  },
  {
   "cell_type": "code",
   "execution_count": null,
   "metadata": {},
   "outputs": [],
   "source": [
    "list(camisetas.items())"
   ]
  },
  {
   "cell_type": "markdown",
   "metadata": {},
   "source": [
    "Hay muchos *métodos* útiles"
   ]
  },
  {
   "cell_type": "code",
   "execution_count": null,
   "metadata": {},
   "outputs": [],
   "source": [
    "for jugador, camiseta in camisetas.items():\n",
    "    if jugador == 'Gaitán':\n",
    "        continue    \n",
    "    print(\"%s lleva la %d\" % (jugador, camiseta))"
   ]
  },
  {
   "cell_type": "markdown",
   "metadata": {},
   "source": [
    "Se puede crear un diccionario a partir de tuplas `(clave, valor)` a traves de la propia clase `dict()`"
   ]
  },
  {
   "cell_type": "code",
   "execution_count": null,
   "metadata": {},
   "outputs": [],
   "source": [
    "dict([('Yo', 'gaitan@gmail.com'), ('Melisa', 'mgomez@phasety.com'), ('Cismondi', 'cismondi@phasety.com')])"
   ]
  },
  {
   "cell_type": "markdown",
   "metadata": {},
   "source": [
    "Que es muy útil usar con la función `zip()` que ya vimos"
   ]
  },
  {
   "cell_type": "code",
   "execution_count": null,
   "metadata": {},
   "outputs": [],
   "source": [
    "nombres = (\"Martin\", \"Mariano\")\n",
    "emails = (\"tin@email.com\", \"nano@email.com\")\n",
    "\n",
    "dict(zip(nombres, emails))"
   ]
  },
  {
   "cell_type": "markdown",
   "metadata": {},
   "source": [
    "#### Ejercicio\n",
    "\n",
    "#. Dados la lista de precios por kilo:\n",
    "\n",
    "        precios = {\n",
    "            \"banana\": 12,\n",
    "            \"manzana\": 8.5,\n",
    "            \"naranja\": 6,\n",
    "            \"pera\": 18\n",
    "        }\n",
    "\n",
    " Y la siguiente lista de compras \n",
    "\n",
    "        compras = {\n",
    "            \"banana\": 1,\n",
    "            \"naranja\": 3,\n",
    "            \"pera\": 0,\n",
    "            \"manzana\": 1\n",
    "        }\n",
    "\n",
    " Calcule el costo total de la compra. \n",
    "\n",
    "\n",
    "#. Ejecute `import this` y luego analice el código del módulo con `this??`  . ¿comprende el algoritmo? Cree el algoritmo inverso, es decir, codificador de [rot13](https://es.wikipedia.org/wiki/ROT13)\n"
   ]
  },
  {
   "cell_type": "code",
   "execution_count": 152,
   "metadata": {},
   "outputs": [
    {
     "name": "stdout",
     "output_type": "stream",
     "text": [
      "The Zen of Python, by Tim Peters\n",
      "\n",
      "Beautiful is better than ugly.\n",
      "Explicit is better than implicit.\n",
      "Simple is better than complex.\n",
      "Complex is better than complicated.\n",
      "Flat is better than nested.\n",
      "Sparse is better than dense.\n",
      "Readability counts.\n",
      "Special cases aren't special enough to break the rules.\n",
      "Although practicality beats purity.\n",
      "Errors should never pass silently.\n",
      "Unless explicitly silenced.\n",
      "In the face of ambiguity, refuse the temptation to guess.\n",
      "There should be one-- and preferably only one --obvious way to do it.\n",
      "Although that way may not be obvious at first unless you're Dutch.\n",
      "Now is better than never.\n",
      "Although never is often better than *right* now.\n",
      "If the implementation is hard to explain, it's a bad idea.\n",
      "If the implementation is easy to explain, it may be a good idea.\n",
      "Namespaces are one honking great idea -- let's do more of those!\n"
     ]
    }
   ],
   "source": [
    "import this"
   ]
  }
 ],
 "metadata": {
  "kernelspec": {
   "display_name": "Python 3",
   "language": "python",
   "name": "python3"
  },
  "language_info": {
   "codemirror_mode": {
    "name": "ipython",
    "version": 3
   },
   "file_extension": ".py",
   "mimetype": "text/x-python",
   "name": "python",
   "nbconvert_exporter": "python",
   "pygments_lexer": "ipython3",
   "version": "3.6.5"
  }
 },
 "nbformat": 4,
 "nbformat_minor": 1
}
