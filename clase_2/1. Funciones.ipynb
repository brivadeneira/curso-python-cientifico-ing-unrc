{
 "cells": [
  {
   "cell_type": "markdown",
   "metadata": {},
   "source": [
    "# Introducción a Python para ciencias e ingenierías (notebook 2)\n",
    "\n",
    "\n",
    "Ing. Martín Gaitán\n",
    "\n",
    "\n",
    "**Links útiles**\n",
    "\n",
    "Repositorio del curso:\n",
    "\n",
    "### http://bit.ly/cursopy\n",
    "\n",
    "Python \"temporal\" online: \n",
    "\n",
    "### http://try.jupyter.org\n",
    "\n",
    "- Descarga de [Python \"Anaconda\"](http://continuum.io/downloads#py34)\n",
    "- Resumen de [sintaxis markdown](https://github.com/jupyter/strata-sv-2015-tutorial/blob/master/resources/Working%20With%20Markdown%20Cells.ipynb)\n"
   ]
  },
  {
   "cell_type": "markdown",
   "metadata": {},
   "source": [
    "## Funciones\n",
    "\n",
    "\n",
    "Hasta ahora hemos definido código en una celda: declaramos parámetros en variables, luego hacemos alguna operación e imprimimos y/o devolvemos un resultado. \n",
    "\n",
    "Para generalizar esto podemos declarar **funciones**, de manera de que no sea necesario redefinir variables en el código para calcular/realizar nuestra operación con diferentes parámetros. En Python las funciones se definen con la sentencia `def` y con `return` se devuelve un valor"
   ]
  },
  {
   "cell_type": "code",
   "execution_count": 1,
   "metadata": {},
   "outputs": [],
   "source": [
    "def cuadrado(numero):\n",
    "    \"\"\"Dado un escalar, devuelve su potencia cuadrada\"\"\"\n",
    "    resulta = numero**2\n",
    "    return resulta"
   ]
  },
  {
   "cell_type": "code",
   "execution_count": null,
   "metadata": {},
   "outputs": [],
   "source": [
    "cuadrado(3)"
   ]
  },
  {
   "cell_type": "code",
   "execution_count": null,
   "metadata": {},
   "outputs": [],
   "source": [
    "cuadrado(2e10)"
   ]
  },
  {
   "cell_type": "code",
   "execution_count": null,
   "metadata": {},
   "outputs": [],
   "source": [
    "cuadrado(5-1j)"
   ]
  },
  {
   "cell_type": "code",
   "execution_count": null,
   "metadata": {},
   "outputs": [],
   "source": [
    "cuadrado(3 + 2)"
   ]
  },
  {
   "cell_type": "markdown",
   "metadata": {},
   "source": [
    "Notar que no **exigimos un tipo de dato** en la signatura. Python es dinámico: se esperan **comportamientos** en vez de tipos. Un tipo de datos puede implementar distintos comportamientos y *\"funcionar\"* \n",
    "\n",
    "Si un número, cualquiera sea su tipo, puede elevarse al cuadrado, ¿por qué deberíamos hacer una función equivalente para enteros, otra para flotantes de simple precisión y otra para complejos como se hace en otros lenguajes?\n",
    "\n",
    "Esto es lo que se conoce como **[Duck typing](https://es.wikipedia.org/wiki/Duck_typing)**, que es el estilo de orientación a objetos que utiliza Python. \n",
    "\n",
    "   *\"Cuando veo un ave que camina como un pato, nada como un pato y suena como un pato, a esa ave yo le digo pato.\"*\n",
    "\n"
   ]
  },
  {
   "cell_type": "code",
   "execution_count": 2,
   "metadata": {},
   "outputs": [
    {
     "ename": "TypeError",
     "evalue": "unsupported operand type(s) for ** or pow(): 'str' and 'int'",
     "output_type": "error",
     "traceback": [
      "\u001b[0;31m---------------------------------------------------------------------------\u001b[0m",
      "\u001b[0;31mTypeError\u001b[0m                                 Traceback (most recent call last)",
      "\u001b[0;32m<ipython-input-2-fd29db68f1a2>\u001b[0m in \u001b[0;36m<module>\u001b[0;34m()\u001b[0m\n\u001b[0;32m----> 1\u001b[0;31m \u001b[0mcuadrado\u001b[0m\u001b[0;34m(\u001b[0m\u001b[0;34m\"hola mundo\"\u001b[0m\u001b[0;34m)\u001b[0m\u001b[0;34m\u001b[0m\u001b[0m\n\u001b[0m",
      "\u001b[0;32m<ipython-input-1-c97145cbea69>\u001b[0m in \u001b[0;36mcuadrado\u001b[0;34m(numero)\u001b[0m\n\u001b[1;32m      1\u001b[0m \u001b[0;32mdef\u001b[0m \u001b[0mcuadrado\u001b[0m\u001b[0;34m(\u001b[0m\u001b[0mnumero\u001b[0m\u001b[0;34m)\u001b[0m\u001b[0;34m:\u001b[0m\u001b[0;34m\u001b[0m\u001b[0m\n\u001b[1;32m      2\u001b[0m     \u001b[0;34m\"\"\"Dado un escalar, devuelve su potencia cuadrada\"\"\"\u001b[0m\u001b[0;34m\u001b[0m\u001b[0m\n\u001b[0;32m----> 3\u001b[0;31m     \u001b[0mresulta\u001b[0m \u001b[0;34m=\u001b[0m \u001b[0mnumero\u001b[0m\u001b[0;34m**\u001b[0m\u001b[0;36m2\u001b[0m\u001b[0;34m\u001b[0m\u001b[0m\n\u001b[0m\u001b[1;32m      4\u001b[0m     \u001b[0;32mreturn\u001b[0m \u001b[0mresulta\u001b[0m\u001b[0;34m\u001b[0m\u001b[0m\n",
      "\u001b[0;31mTypeError\u001b[0m: unsupported operand type(s) for ** or pow(): 'str' and 'int'"
     ]
    }
   ],
   "source": [
    "cuadrado(\"hola mundo\")"
   ]
  },
  {
   "cell_type": "markdown",
   "metadata": {},
   "source": [
    "Obviamente, si el objeto (el tipo del objeto) que pasamos no soporta el comportamiento que esperamos (en este caso no se puede \"elevar al cuadrado\" una cadena) fallará. \n",
    "\n",
    "Pero es mejor que nos avise del error, ¿no? ¿Por qué querríamos elevar una cadena al cuadrado? ¿qué significado tendría?\n",
    "\n",
    "\n",
    "![](http://img.desmotivaciones.es/201109/CliffRobertsonSpiderman1.jpg)\n",
    "\n",
    "\n",
    "\n",
    "\n",
    "#### Parámetros y más parámetros\n",
    "\n",
    "La definción de funciones es muy flexible. No exige ni siquiera pasar parámetros o devolver resultados\n"
   ]
  },
  {
   "cell_type": "code",
   "execution_count": 3,
   "metadata": {},
   "outputs": [
    {
     "name": "stdout",
     "output_type": "stream",
     "text": [
      "¡Hola curso!\n"
     ]
    }
   ],
   "source": [
    "# definimos una funcion que no recibe ni devuelve parámetros pero hace algo. \n",
    "def hola():\n",
    "    \"\"\"\n",
    "    una función que saluda\n",
    "    de una manera muy amable\n",
    "    \n",
    "    \"\"\"\n",
    "    print(\"¡Hola curso!\")\n",
    "\n",
    "hola()   # llamamos a esa función"
   ]
  },
  {
   "cell_type": "code",
   "execution_count": null,
   "metadata": {},
   "outputs": [],
   "source": [
    "print(hola())"
   ]
  },
  {
   "cell_type": "markdown",
   "metadata": {},
   "source": [
    "Si la función no tiene un `return`, lo que devuelve es `None`."
   ]
  },
  {
   "cell_type": "code",
   "execution_count": null,
   "metadata": {},
   "outputs": [],
   "source": [
    "saludo = hola()"
   ]
  },
  {
   "cell_type": "markdown",
   "metadata": {},
   "source": [
    "#### Múltiples puntos de salida\n",
    "\n",
    "También puede haber múltiples `return` en una función. El primero en ejecutarse determinará el valor que la función devuelve"
   ]
  },
  {
   "cell_type": "code",
   "execution_count": null,
   "metadata": {},
   "outputs": [],
   "source": [
    "def saludo(coloquial):\n",
    "    if coloquial:\n",
    "        VAL = \"Hola chochamus!\"\n",
    "        return VAL\n",
    "    else:\n",
    "        return \"Buenas tardes, señores\"\n",
    "    \n",
    "    # Esto tambien podria ser una linea con la estructura ternaria\n",
    "    # return \"Hola chochamus!\" if coloquial else  \"Buenas tardes, señores\"\n",
    "    \n",
    "\n",
    "saludo(1)"
   ]
  },
  {
   "cell_type": "code",
   "execution_count": null,
   "metadata": {},
   "outputs": [],
   "source": [
    "saludo(coloquial=True)"
   ]
  },
  {
   "cell_type": "markdown",
   "metadata": {},
   "source": [
    "### Parámetros opcionales\n",
    "\n",
    "Se pueden definir parámetros opcionales, que **toman un valor *default* ** cuando no se los explicíta"
   ]
  },
  {
   "cell_type": "markdown",
   "metadata": {},
   "source": [
    "La función `saluda` recibe un parámetro requerido `nombre` (es requerido porque no tiene valor por omisión)  y dos parámetros opcionales (`saludo` y `sufijo`). \n",
    "\n",
    "- Si sólo paso 1 parámetro será `nombre` y los valores default se usarán para los otros parámetros \n",
    "- Si paso 2 se usaran para `nombre` y `saludo` mientras que `sufijo` usará el default\n",
    "- Si paso todos los parámetros no se usaran los valores por omisión.\n"
   ]
  },
  {
   "cell_type": "code",
   "execution_count": null,
   "metadata": {},
   "outputs": [],
   "source": [
    "def saludar(nombre, saludo=\"Hola\", sufijo=\"¿qué tal?\"):\n",
    "    \"\"\"Dado un nombre y, opcionalmente, un saludo y/o sufijo, devuelve \n",
    "    una cadena saludo + nombre + sufijo\"\"\"\n",
    "    \n",
    "    return \"{} {}, {}\".format(saludo, nombre, sufijo)  \n",
    "\n",
    "print(saludar(\"Martín\"))\n",
    "print(saludar(\"Fernando\", 'Ey'))\n",
    "print(saludar(\"Lionel Messi\", \"Estimado\", 'usted es un genio'))"
   ]
  },
  {
   "cell_type": "code",
   "execution_count": null,
   "metadata": {},
   "outputs": [],
   "source": [
    "saludar('oscar')"
   ]
  },
  {
   "cell_type": "markdown",
   "metadata": {},
   "source": [
    "Pero ¿qué pasa si quiero usar el default para `saludo` pero no para `sufijo`? \n",
    "\n",
    "Podemos pasar los **parámetros por nombre**"
   ]
  },
  {
   "cell_type": "code",
   "execution_count": null,
   "metadata": {},
   "outputs": [],
   "source": [
    "saludar('Lionel', sufijo=\"que golazo hiciste\")    # saludo no se explicitó, se usa el default (\"Hola\")"
   ]
  },
  {
   "cell_type": "markdown",
   "metadata": {},
   "source": [
    "Entre los parámetros por nombre no importa el órden, pero si mezclamos las dos formas, los **parámetros por posición, deben ir antes** de los parámetros por nombre. "
   ]
  },
  {
   "cell_type": "markdown",
   "metadata": {},
   "source": [
    "#### Ejercicios\n",
    "\n",
    "1. Definir una función para encontrar las raíces en el plano real en la ecuación de segundo grado  \n",
    "$$x_{1,2} = \\frac{-b \\pm \\sqrt {b^2-4ac}}{2a}$$ El parámetro `a` es obligatorio, y `b` y `c` son opcionales con default 0. Devuelve una tupla con ambas raices. Luego mejore la implemtación para encontrar también las raices en el plano complejo cuando sea necesario. \n",
    "\n",
    "2. Definir una función `marquesina` que, dado un objeto, la devuelve como un texto decorado en una caja. El, ancho, alto del relleno y el caracter de decoración son parámetros opcionales. Por ejemplo, dada `\"Hola\"`, devuelve\n",
    "\n",
    "```\n",
    "     *****************\n",
    "     *      Hola     *\n",
    "     *****************\n",
    "```\n",
    "\n",
    "<!-- \n",
    "\n",
    " https://gist.githubusercontent.com/mgaitan/cb0ad9778453607acb49/raw/8d85d2184a4b46b48440cf5b5d95062801a08cce/baskara.py \n",
    "\n",
    "https://gist.githubusercontent.com/mgaitan/6319640/raw/8183dc5b214397f0ff2d38a25ebdd128a1a3ca0f/gistfile1.txt \n",
    "//-->"
   ]
  },
  {
   "cell_type": "markdown",
   "metadata": {},
   "source": [
    "Obviamente, si pasamos más parámetros de los esperados por la función (y no permite parámetros arbritrarios), dará un error"
   ]
  },
  {
   "cell_type": "code",
   "execution_count": 1,
   "metadata": {},
   "outputs": [
    {
     "name": "stdout",
     "output_type": "stream",
     "text": [
      "The Zen of Python, by Tim Peters\n",
      "\n",
      "Beautiful is better than ugly.\n",
      "Explicit is better than implicit.\n",
      "Simple is better than complex.\n",
      "Complex is better than complicated.\n",
      "Flat is better than nested.\n",
      "Sparse is better than dense.\n",
      "Readability counts.\n",
      "Special cases aren't special enough to break the rules.\n",
      "Although practicality beats purity.\n",
      "Errors should never pass silently.\n",
      "Unless explicitly silenced.\n",
      "In the face of ambiguity, refuse the temptation to guess.\n",
      "There should be one-- and preferably only one --obvious way to do it.\n",
      "Although that way may not be obvious at first unless you're Dutch.\n",
      "Now is better than never.\n",
      "Although never is often better than *right* now.\n",
      "If the implementation is hard to explain, it's a bad idea.\n",
      "If the implementation is easy to explain, it may be a good idea.\n",
      "Namespaces are one honking great idea -- let's do more of those!\n"
     ]
    }
   ],
   "source": [
    "import this"
   ]
  },
  {
   "cell_type": "markdown",
   "metadata": {},
   "source": [
    "### Ejercicios\n",
    "\n",
    "1. Dada las función `prod` y `marquesina` definidas con anterioridad, redefina `prod` agregando un parámetro opcional `enmamarcar` (`False` por defecto) que si es verdadero devuelve el resultado de la productoria en una marquesina. Cualquier otro parámetro se pasa directamente a la función marquesina. \n",
    "\n",
    "<!-- https://gist.githubusercontent.com/mgaitan/6bda75780aa826b45d09/raw/a1fb74873c98f4dff1b3689dae7246c490fb88ec/prod_enmarcable.py -->\n"
   ]
  },
  {
   "cell_type": "markdown",
   "metadata": {},
   "source": [
    "### Espacios de nombre y paso por asignación\n",
    "\n",
    "Una función define un **espacio de nombre** (namespace), es decir, un contexto donde un nombre de variable refiere a un objeto unívoco dentro de ese espacio. Si un nombre no existe en el espacio de nombre local, se busca en el espacio global (módulo o sesión)\n"
   ]
  },
  {
   "cell_type": "code",
   "execution_count": null,
   "metadata": {},
   "outputs": [],
   "source": [
    "pi = 3.14\n",
    "\n",
    "def area(r):\n",
    "    return pi * r * r       # pi no está en en el espacio local, se usa el definido fuera de la función\n",
    "\n",
    "r1 =1\n",
    "area(r1)"
   ]
  },
  {
   "cell_type": "code",
   "execution_count": null,
   "metadata": {},
   "outputs": [],
   "source": [
    "pi = 3.14\n",
    "\n",
    "def area2(r):\n",
    "    return pi * r * r      # en este caso, se usa el pi pasado a la función\n",
    "\n",
    "print(area2(1))\n",
    "print(pi)                      # pero afuera sigue valiendo el del espacio global"
   ]
  },
  {
   "cell_type": "markdown",
   "metadata": {},
   "source": [
    "tip: dentro de cualquier namespace, la función `locals()` devuelve el diccionario de nombres definidos"
   ]
  },
  {
   "cell_type": "code",
   "execution_count": null,
   "metadata": {},
   "outputs": [],
   "source": [
    "pi = 2\n",
    "def namespaces(a, b):\n",
    "    BLAH = 'bleh'\n",
    "    print(locals())    \n",
    "\n",
    "namespaces('1', b='algo')"
   ]
  },
  {
   "cell_type": "markdown",
   "metadata": {},
   "source": [
    "En python se dice que los argumentos se pasan \"por asignación\", es decir, se asigna un nombre en el espacio de nombres local a un objeto existente, independientemente de si ya tiene un nombre en el espacio global.  Pero si ese objeto es mutable, la función podría modificar el objeto\n"
   ]
  },
  {
   "cell_type": "code",
   "execution_count": null,
   "metadata": {},
   "outputs": [],
   "source": [
    "def f2(l):\n",
    "    l[0] = 10   \n",
    "    return l\n",
    "\n",
    "\n",
    "lista = ['a', 'b']\n",
    "print(f2(lista))"
   ]
  },
  {
   "cell_type": "code",
   "execution_count": null,
   "metadata": {},
   "outputs": [],
   "source": [
    "def f3(l):\n",
    "    l1 = l.copy()\n",
    "    l1[0] = 10\n",
    "    return l1\n",
    "\n",
    "\n",
    "lista = ['a', 'b']\n",
    "print(f3(lista))\n",
    "lista"
   ]
  },
  {
   "cell_type": "code",
   "execution_count": null,
   "metadata": {
    "collapsed": true
   },
   "outputs": [],
   "source": [
    "# pero se modificó el objeto fuera de la funcion\n",
    "lista"
   ]
  },
  {
   "cell_type": "markdown",
   "metadata": {},
   "source": [
    "En general, siempre es mejor que la funciones devuelvan objetos nuevos"
   ]
  },
  {
   "cell_type": "code",
   "execution_count": null,
   "metadata": {
    "collapsed": true
   },
   "outputs": [],
   "source": [
    "def f2(l):\n",
    "    return [10] + l[1:]\n",
    "\n",
    "lista = ['a', 'b']\n",
    "print(f2(lista))\n",
    "lista\n"
   ]
  },
  {
   "cell_type": "markdown",
   "metadata": {},
   "source": [
    "### Ejercicios \n",
    "\n",
    "* Una función puede retornar cualquier objeto y en Python todo es un objeto. Defina una [función de orden superior](https://es.wikipedia.org/wiki/Funci%C3%B3n_de_orden_superior) (función que devuelve funciones) llamada `lineal` que dados los coeficientes `a` y `b` devuelve $$f(x) = ax + b$$\n",
    "\n",
    "<!-- https://gist.githubusercontent.com/mgaitan/a5fac459bf360f54d96e/raw/3b0d50048503399662cca97fb7c62025cdecb6cc/lineal_factory.py -->"
   ]
  },
  {
   "cell_type": "markdown",
   "metadata": {},
   "source": [
    "## Manejo de excepciones\n",
    "\n",
    "Ya vimos que a veces suceden errores: por ejemplo, cuando apuntamos a un elemento mayor al tamaño de una secuencia, cuando pedimos el valor de una clave que no existe en un diccionario, cuando dividimos por cero, cuando intentamos un *casting de tipos* no válido, etc. \n",
    "\n",
    "No hay problema interactivamente, porque podemos corregir y reintentar (lo que es genial), pero muchas veces queremos o necesitamos \"capturar\" el potencial error o excepción, ya sea para subsanarlo de alguna manera, registrarlo o lanzar otro más específico en reemplazo, etc. \n",
    "   \n",
    "La sintaxis es un poco parecida al `if / elif / else`"
   ]
  },
  {
   "cell_type": "code",
   "execution_count": null,
   "metadata": {},
   "outputs": [],
   "source": [
    "int('diez')"
   ]
  },
  {
   "cell_type": "code",
   "execution_count": null,
   "metadata": {},
   "outputs": [],
   "source": [
    "while True:\n",
    "    try:\n",
    "        x = int(input(\"Ingrese un número entero: \"))\n",
    "        print(\"qué lindo número el {}\".format(x))\n",
    "        break\n",
    "    except ValueError:\n",
    "        print(\"Eso no es un número válido.\")"
   ]
  },
  {
   "cell_type": "markdown",
   "metadata": {},
   "source": [
    "Una sintaxis más completa permite multiples bloques `except`, un mismo bloque except  un bloque `else` que se ejecuta cuando no se originó ninguna excepción y un bloque `finally` que se ejecuta siempre"
   ]
  },
  {
   "cell_type": "code",
   "execution_count": null,
   "metadata": {
    "scrolled": true
   },
   "outputs": [],
   "source": [
    "\n",
    "try:\n",
    "    x = int(input(\"Ingrese el divisor: \"))\n",
    "    print(10/x)\n",
    "except ZeroDivisionError:\n",
    "    print(\"hubo un error de division por cero, obvio\")\n",
    "except ValueError:\n",
    "    print(\"hubo un error de valor. Poné un numero! \")\n",
    "else:\n",
    "    print('todo salió bien. puedo hacer más operaciones')\n",
    "finally:\n",
    "    print('no sé qué pasó ni me interesa: yo me ejecuto igual')\n",
    "    "
   ]
  },
  {
   "cell_type": "markdown",
   "metadata": {},
   "source": [
    "\n",
    "¡Esto se usa mucho!  En la filosofía de Python, que espera comportamientos y no tipos,  es **mejor pedir perdón que pedir permiso**. Es decir, es preferible capturar potenciales errores de un intento de operación que verificar precondiciones. \n",
    "   \n",
    "#### Ejercicio\n",
    "\n",
    "1. Redefina el siguiente fragmento de código en una estructura `try / except`\n",
    "\n",
    "```python\n",
    "opciones = {'a': 'jugar', 'b': 'bailar', 'c': 'dormir siesta'}\n",
    "\n",
    "opcion = input(\"Ingrese opcion \")\n",
    "if opcion in opciones:\n",
    "   print('Vamos a ', opciones[opcion])\n",
    "else:\n",
    "   print('Valor invalido')\n",
    "```\n",
    "\n",
    "<!-- https://gist.github.com/mgaitan/fbdb84b021151a545a36 -->"
   ]
  },
  {
   "cell_type": "markdown",
   "metadata": {},
   "source": [
    "## Lectura y escritura de archivos\n",
    "\n",
    "Siempre necesitamos leer y escribir archivos. Es la forma básica de interactuar con el resto del sistema, introducir y exportar datos para la \"computación\". Como en Python todo es un objeto, lo que tenemos es un \"objeto manejador de archivos\" . La forma más básica de obtener uno es con la función `open()` que se le dice la ruta al archivo y modo/s, que se especifican con \n",
    "\n",
    "\n",
    "       'r': lectura (default)\n",
    "       'w': (sobre)escritura\n",
    "       'a': agregar contenido al final \n",
    "       'x': para escribir, pero no sobreescribe si existe el path\n",
    "       'b': modo binario\n",
    "       't': modo texto (default)\n",
    "       '+':\tactualizar contenido\n",
    "       \n",
    "\n"
   ]
  },
  {
   "cell_type": "code",
   "execution_count": 3,
   "metadata": {},
   "outputs": [
    {
     "name": "stdout",
     "output_type": "stream",
     "text": [
      "Writing archivo.txt\n"
     ]
    }
   ],
   "source": [
    "%%writefile archivo.txt\n",
    "UN EJEMPLO DE TEXTO\n",
    "\n",
    "CON MULTIPLES LINEAS\n",
    "\n",
    "SI!"
   ]
  },
  {
   "cell_type": "code",
   "execution_count": 4,
   "metadata": {},
   "outputs": [
    {
     "name": "stdout",
     "output_type": "stream",
     "text": [
      "<_io.TextIOWrapper name='archivo.txt' mode='r' encoding='UTF-8'>\n"
     ]
    }
   ],
   "source": [
    "readme = open('archivo.txt')    # se usa modo default 'rt' (sólo lectura, formato texto)\n",
    "print(readme)"
   ]
  },
  {
   "cell_type": "markdown",
   "metadata": {},
   "source": [
    "Los objetos `file like` como `readme` tienen un método principal llamado `read` que lee `n` cantidad de caracteres (o bytes en modo binario) o todo el contenido del archivo si no se especifica"
   ]
  },
  {
   "cell_type": "code",
   "execution_count": 5,
   "metadata": {},
   "outputs": [
    {
     "data": {
      "text/plain": [
       "'UN EJEMPLO DE TEXTO\\n\\nCON MULTIPLES LINEAS\\n\\nSI!'"
      ]
     },
     "execution_count": 5,
     "metadata": {},
     "output_type": "execute_result"
    }
   ],
   "source": [
    "texto = readme.read()\n",
    "\n",
    "texto"
   ]
  },
  {
   "cell_type": "markdown",
   "metadata": {},
   "source": [
    "Atenti: el objeto manejador lleva internamente la **posición del cursor**. Por ejemplo, si invocan multiples veces el metodo `read()`, leerán porciones consecutivas del archivo. \n",
    "\n",
    "Métodos útiles: `read()`, `readlines()`, `write()`, `writelines()`\n",
    "\n",
    "A veces simplemente queremos hacer algo \"linea por linea\". En vez de usar `readlines()` y cargar todo en memoria (que puede ser grande), podemos iterar directamente sobre el archivo, que nos devolverá una línea "
   ]
  },
  {
   "cell_type": "code",
   "execution_count": 11,
   "metadata": {},
   "outputs": [
    {
     "name": "stdout",
     "output_type": "stream",
     "text": [
      "UN EJEMPLO DE TEXTO\n",
      "\n",
      "CON MULTIPLES LINEAS\n",
      "\n",
      "SI\n"
     ]
    }
   ],
   "source": [
    "readme = open('archivo.txt')\n",
    "for linea in readme:\n",
    "    print(linea[:-1].upper())"
   ]
  },
  {
   "cell_type": "code",
   "execution_count": 13,
   "metadata": {},
   "outputs": [
    {
     "name": "stdout",
     "output_type": "stream",
     "text": [
      "UN EJEMPLO DE TEXTO\n",
      "\n",
      "\n",
      "\n",
      "CON MULTIPLES LINEAS\n",
      "\n",
      "\n",
      "\n"
     ]
    }
   ],
   "source": [
    "readme = open('archivo.txt')\n",
    "for i, linea in enumerate(readme):\n",
    "    if i < 4:\n",
    "        print(linea)\n",
    "    else:\n",
    "        break"
   ]
  },
  {
   "cell_type": "code",
   "execution_count": 14,
   "metadata": {},
   "outputs": [
    {
     "name": "stdout",
     "output_type": "stream",
     "text": [
      "UN EJEMPLO DE TEXTO\n",
      "\n",
      "CON MULTIPLES LINEAS\n",
      "\n",
      "SI!\n"
     ]
    }
   ],
   "source": [
    "readme2 = open('archivo.txt', 'r')\n",
    "\n",
    "print(\"\".join(readme2.readlines()))\n"
   ]
  },
  {
   "cell_type": "markdown",
   "metadata": {},
   "source": [
    "Hasta que no se invoca al método `close()` el archivo está manejado en memoria por Python (y puede causar conflictos si queremos abrir el archivo desde otro programa). Como los objetos `file` saben usar un bloque `with` (manejador de contexto), podemos usarlo para que se cierre automáticamente. "
   ]
  },
  {
   "cell_type": "code",
   "execution_count": null,
   "metadata": {},
   "outputs": [],
   "source": [
    "with open('README.rst', 'r') as readme:\n",
    "    lineas = readme.readlines()[0:5]    #mete las líneas en una lista\n",
    "print(''.join(lineas))\n"
   ]
  },
  {
   "cell_type": "markdown",
   "metadata": {},
   "source": [
    "### Ejercicio:\n",
    "\n",
    "1. Escriba una función que, dada la ruta de un archivo de texto, escriba otro archivo con igual nombre pero precedido por el prefijo `\"upper_\"` cuyo contenido es el del original, todo convertido a mayúsculas\n",
    "<!-- https://gist.githubusercontent.com/mgaitan/2c991ea473a8d8c4ab32/raw/3a39cb083a614952bf8ee93ff9f8c4fa2f56784c/convertidor.py -->"
   ]
  }
 ],
 "metadata": {
  "kernelspec": {
   "display_name": "Python 3",
   "language": "python",
   "name": "python3"
  },
  "language_info": {
   "codemirror_mode": {
    "name": "ipython",
    "version": 3
   },
   "file_extension": ".py",
   "mimetype": "text/x-python",
   "name": "python",
   "nbconvert_exporter": "python",
   "pygments_lexer": "ipython3",
   "version": "3.6.5"
  }
 },
 "nbformat": 4,
 "nbformat_minor": 1
}
